{
 "metadata": {
  "name": ""
 },
 "nbformat": 3,
 "nbformat_minor": 0,
 "worksheets": [
  {
   "cells": [
    {
     "cell_type": "code",
     "collapsed": false,
     "input": [
      "import json\n",
      "import csv\n",
      "\n",
      "def nmis_id_json_parser(infile):\n",
      "    \"\"\"\n",
      "    takes a file, parse the json file by line\n",
      "    return the uuid pairs of each facility\n",
      "    \"\"\"\n",
      "    my_dat = my_file.readlines()\n",
      "    id_list = []\n",
      "    for element in my_dat:\n",
      "        current = json.loads(element)\n",
      "        nmis_uuid = current[\"long_id\"]\n",
      "        if current.has_key(\"matched\"):\n",
      "            fcl_uuid = current[\"lga\"][\"long_id\"]\n",
      "            fcl_facility_name = current[\"lga\"][\"facility_name\"]\n",
      "            fcl_community = current[\"lga\"][\"community\"]\n",
      "            fcl_ward = current[\"lga\"][\"ward\"]\n",
      "        else:\n",
      "            fcl_uuid = None\n",
      "            fcl_facility_name = None\n",
      "            fcl_community = None\n",
      "            fcl_ward = None\n",
      "        obj = {\"nmis_uuid\": nmis_uuid,\n",
      "               \"fcl_uuid\": fcl_uuid,\n",
      "               \"fcl_facility_name\":fcl_facility_name,\n",
      "               \"fcl_community\":fcl_community,\n",
      "               \"fcl_ward\":fcl_ward}\n",
      "        id_list.append(obj)\n",
      "    return id_list\n"
     ],
     "language": "python",
     "metadata": {},
     "outputs": [],
     "prompt_number": 53
    },
    {
     "cell_type": "code",
     "collapsed": false,
     "input": [
      "my_file = open('./jsondumps/nmis_edu.json')\n",
      "id_list = nmis_id_json_parser(my_file)\n",
      "\n"
     ],
     "language": "python",
     "metadata": {},
     "outputs": [],
     "prompt_number": 54
    },
    {
     "cell_type": "code",
     "collapsed": false,
     "input": [
      "out_file = open(\"./facility_data/baseline_matching_education.csv\", \"w\")\n",
      "writer = csv.DictWriter(out_file, fieldnames = id_list[0].keys())\n",
      "writer.writeheader()\n",
      "writer.writerows(id_list)"
     ],
     "language": "python",
     "metadata": {},
     "outputs": [],
     "prompt_number": 55
    },
    {
     "cell_type": "code",
     "collapsed": false,
     "input": [
      "id_list[0]"
     ],
     "language": "python",
     "metadata": {},
     "outputs": [
      {
       "metadata": {},
       "output_type": "pyout",
       "prompt_number": 35,
       "text": [
        "{'fcl_community': u'Amurie Nkporo',\n",
        " 'fcl_facility_name': u'Secondary Tech. School Nkporo',\n",
        " 'fcl_uuid': u'12c290ed992349ecf1d8a29bdc319c50',\n",
        " 'fcl_ward': u'Amurie Nkporo',\n",
        " 'nmis_uuid': u'c3d597c5f04a78e6739706061b73d4e9'}"
       ]
      }
     ],
     "prompt_number": 35
    }
   ],
   "metadata": {}
  }
 ]
}