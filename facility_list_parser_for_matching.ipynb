{
 "metadata": {
  "name": ""
 },
 "nbformat": 3,
 "nbformat_minor": 0,
 "worksheets": [
  {
   "cells": [
    {
     "cell_type": "code",
     "collapsed": false,
     "input": [
      "import json\n",
      "import csv\n",
      "\n",
      "def nmis_id_json_parser(infile):\n",
      "    \"\"\"\n",
      "    takes a file, parse the json file by line\n",
      "    return the uuid pairs of each facility\n",
      "    \"\"\"\n",
      "    my_dat = my_file.readlines()\n",
      "    id_list = []\n",
      "    for element in my_dat:\n",
      "        current = json.loads(element)\n",
      "        nmis_uuid = current[\"long_id\"]\n",
      "        if current.has_key(\"matched\"):\n",
      "            fcl_uuid = current[\"lga\"][\"long_id\"]\n",
      "        else:\n",
      "            fcl_uuid = None\n",
      "        obj = {\"nmis_uuid\": nmis_uuid,\n",
      "               \"fcl_uuid\": fcl_uuid}\n",
      "        id_list.append(obj)\n",
      "    return id_list\n"
     ],
     "language": "python",
     "metadata": {},
     "outputs": [],
     "prompt_number": 9
    },
    {
     "cell_type": "code",
     "collapsed": false,
     "input": [
      "my_file = open('./jsondumps/nmis_edu.json')\n",
      "id_list = nmis_id_json_parser(my_file)\n",
      "\n"
     ],
     "language": "python",
     "metadata": {},
     "outputs": [],
     "prompt_number": 13
    },
    {
     "cell_type": "code",
     "collapsed": false,
     "input": [
      "out_file = open(\"./facility_data/baseline_matching_education.csv\", \"w\")\n",
      "writer = csv.DictWriter(out_file, fieldnames = id_list[0].keys())\n",
      "writer.writeheader()\n",
      "writer.writerows(id_list)"
     ],
     "language": "python",
     "metadata": {},
     "outputs": [],
     "prompt_number": 14
    },
    {
     "cell_type": "code",
     "collapsed": false,
     "input": [],
     "language": "python",
     "metadata": {},
     "outputs": [],
     "prompt_number": 8
    }
   ],
   "metadata": {}
  }
 ]
}